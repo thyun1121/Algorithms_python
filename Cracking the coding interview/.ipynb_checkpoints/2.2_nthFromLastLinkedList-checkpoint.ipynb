{
 "cells": [
  {
   "cell_type": "code",
   "execution_count": 13,
   "metadata": {
    "collapsed": false
   },
   "outputs": [
    {
     "name": "stderr",
     "output_type": "stream",
     "text": [
      "F\n",
      "======================================================================\n",
      "FAIL: test (__main__.LinkedListTest)\n",
      "----------------------------------------------------------------------\n",
      "Traceback (most recent call last):\n",
      "  File \"<ipython-input-13-5da776919d7e>\", line 47, in test\n",
      "    self.assertEqual(None, ll.nthFromLastLinkedList(4))\n",
      "AssertionError: None != 1\n",
      "\n",
      "----------------------------------------------------------------------\n",
      "Ran 1 test in 0.001s\n",
      "\n",
      "FAILED (failures=1)\n"
     ]
    },
    {
     "data": {
      "text/plain": [
       "<unittest.runner.TextTestResult run=1 errors=0 failures=1>"
      ]
     },
     "execution_count": 13,
     "metadata": {},
     "output_type": "execute_result"
    }
   ],
   "source": [
    "import unittest\n",
    "\n",
    "class Node :\n",
    "    def __init__(self,item):\n",
    "        self.val = item\n",
    "        self.next = None\n",
    "        \n",
    "class LinkedList :\n",
    "    def __init__(self, item):\n",
    "        self.head = Node(item)\n",
    "        \n",
    "    def add(self,item):\n",
    "        cur = self.head\n",
    "        \n",
    "        while cur.next is not None:\n",
    "            cur = cur.next\n",
    "        \n",
    "        cur.next = Node(item)\n",
    "    \n",
    "    def nthFromLastLinkedList (self, k):\n",
    "        p1 = self.head\n",
    "        p2 = self.head\n",
    "        \n",
    "        for i in range(k):\n",
    "            p2 = p2.next\n",
    "        \n",
    "        if p2 is None:\n",
    "            return None\n",
    "        \n",
    "        while p2.next is not None:\n",
    "           \n",
    "            p2 = p2.next            \n",
    "            p1 = p1.next\n",
    "            \n",
    "        return p1.val\n",
    "    \n",
    "    \n",
    "class LinkedListTest(unittest.TestCase):\n",
    "    def test(self):\n",
    "        ll = LinkedList (1)\n",
    "        ll.add(2)\n",
    "        ll.add(3)\n",
    "        ll.add(4)\n",
    "        ll.add(5)\n",
    "        \n",
    "        self.assertEqual(4, ll.nthFromLastLinkedList(1))\n",
    "        self.assertEqual(None, ll.nthFromLastLinkedList(5))\n",
    "        \n",
    "suite = unittest.TestLoader().loadTestsFromTestCase( LinkedListTest )\n",
    "unittest.TextTestRunner(verbosity=1).run( suite )\n",
    "        \n",
    "    "
   ]
  },
  {
   "cell_type": "code",
   "execution_count": null,
   "metadata": {
    "collapsed": true
   },
   "outputs": [],
   "source": []
  }
 ],
 "metadata": {
  "kernelspec": {
   "display_name": "Python 3",
   "language": "python",
   "name": "python3"
  },
  "language_info": {
   "codemirror_mode": {
    "name": "ipython",
    "version": 3
   },
   "file_extension": ".py",
   "mimetype": "text/x-python",
   "name": "python",
   "nbconvert_exporter": "python",
   "pygments_lexer": "ipython3",
   "version": "3.5.1"
  }
 },
 "nbformat": 4,
 "nbformat_minor": 0
}
