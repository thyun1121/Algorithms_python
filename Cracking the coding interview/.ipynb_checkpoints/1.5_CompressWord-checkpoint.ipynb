{
 "cells": [
  {
   "cell_type": "code",
   "execution_count": 10,
   "metadata": {
    "collapsed": false
   },
   "outputs": [
    {
     "name": "stderr",
     "output_type": "stream",
     "text": [
      "F"
     ]
    },
    {
     "name": "stdout",
     "output_type": "stream",
     "text": [
      "aabccccaa : 9\n",
      "a122b11c12344a12 16\n"
     ]
    },
    {
     "name": "stderr",
     "output_type": "stream",
     "text": [
      "\n",
      "======================================================================\n",
      "FAIL: test (__main__.CompressWordTest)\n",
      "----------------------------------------------------------------------\n",
      "Traceback (most recent call last):\n",
      "  File \"<ipython-input-10-769ad2e47e6c>\", line 35, in test\n",
      "    self.assertEqual(\"a2b1c4a2\", compressWord(\"aabccccaa\"))\n",
      "AssertionError: 'a2b1c4a2' != 'aabccccaa'\n",
      "- a2b1c4a2\n",
      "+ aabccccaa\n",
      "\n",
      "\n",
      "----------------------------------------------------------------------\n",
      "Ran 1 test in 0.006s\n",
      "\n",
      "FAILED (failures=1)\n"
     ]
    },
    {
     "data": {
      "text/plain": [
       "<unittest.runner.TextTestResult run=1 errors=0 failures=1>"
      ]
     },
     "execution_count": 10,
     "metadata": {},
     "output_type": "execute_result"
    }
   ],
   "source": [
    "import unittest\n",
    "\n",
    "def compressWord(input):\n",
    "    buffer = None\n",
    "    output = \"\"\n",
    "    cnt = 0\n",
    "    \n",
    "    for ch in input :\n",
    "        if buffer is None:\n",
    "            output += ch\n",
    "            buffer = ch\n",
    "            cnt += 1\n",
    "        else:\n",
    "            if buffer == ch:\n",
    "                cnt += 1\n",
    "            else:\n",
    "                output += str(cnt)\n",
    "                output += ch\n",
    "                cnt = 0\n",
    "                cnt += 1\n",
    "                buffer = ch\n",
    "                \n",
    "    \n",
    "    output +=str(cnt)\n",
    "    \n",
    "    print(input+ \" : \" +str(len(input)))\n",
    "    print(output+ \" \" +str(len(output)))\n",
    "    \n",
    "    if len(input)>len(output):\n",
    "        return output\n",
    "    else:\n",
    "        return input\n",
    "    \n",
    "class CompressWordTest(unittest.TestCase):\n",
    "    def test(self):\n",
    "        self.assertEqual(\"a2b1c4a2\", compressWord(\"aabccccaa\"))\n",
    "        #self.assertFalse()\n",
    "        \n",
    "suite = unittest.TestLoader().loadTestsFromTestCase( CompressWordTest )\n",
    "unittest.TextTestRunner(verbosity=1).run( suite )\n",
    "                \n",
    "                "
   ]
  },
  {
   "cell_type": "code",
   "execution_count": null,
   "metadata": {
    "collapsed": true
   },
   "outputs": [],
   "source": []
  }
 ],
 "metadata": {
  "kernelspec": {
   "display_name": "Python 3",
   "language": "python",
   "name": "python3"
  },
  "language_info": {
   "codemirror_mode": {
    "name": "ipython",
    "version": 3
   },
   "file_extension": ".py",
   "mimetype": "text/x-python",
   "name": "python",
   "nbconvert_exporter": "python",
   "pygments_lexer": "ipython3",
   "version": "3.5.1"
  }
 },
 "nbformat": 4,
 "nbformat_minor": 0
}
