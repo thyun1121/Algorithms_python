{
 "cells": [
  {
   "cell_type": "code",
   "execution_count": 5,
   "metadata": {
    "collapsed": false
   },
   "outputs": [
    {
     "name": "stderr",
     "output_type": "stream",
     "text": [
      "\n",
      "----------------------------------------------------------------------\n",
      "Ran 0 tests in 0.000s\n",
      "\n",
      "OK\n"
     ]
    },
    {
     "data": {
      "text/plain": [
       "<unittest.runner.TextTestResult run=0 errors=0 failures=0>"
      ]
     },
     "execution_count": 5,
     "metadata": {},
     "output_type": "execute_result"
    }
   ],
   "source": [
    "import unittest\n",
    "\n",
    "def compressWord(input):\n",
    "    buffer = None\n",
    "    output = \"\"\n",
    "    cnt = 0\n",
    "    \n",
    "    for ch in input :\n",
    "        if buffer is None:\n",
    "            output += ch\n",
    "            buffer = ch\n",
    "            cnt += 1\n",
    "        else:\n",
    "            if buffer == ch:\n",
    "                cnt += 1\n",
    "            else:\n",
    "                output += str(cnt)\n",
    "                output += ch\n",
    "                cnt = 0\n",
    "                cnt += 1\n",
    "                buffer = ch\n",
    "                \n",
    "    \n",
    "    output +=str(cnt)\n",
    "    \n",
    "    \n",
    "    if len(input)>len(output):\n",
    "        return output\n",
    "    else:\n",
    "        return input\n",
    "    \n",
    "class CompressWordTest(unittest.TestCase):\n",
    "    def test(self):\n",
    "        self.assertEqual(\"a2b1c4a2\", compressWord(\"aabccccaa\"))\n",
    "        #self.assertFalse()\n",
    "        \n",
    "suite = unittest.TestLoader().loadTestsFromTestCase( CompressWordTest )\n",
    "unittest.TextTestRunner(verbosity=1).run( suite )\n",
    "                \n",
    "                "
   ]
  },
  {
   "cell_type": "code",
   "execution_count": null,
   "metadata": {
    "collapsed": true
   },
   "outputs": [],
   "source": []
  },
  {
   "cell_type": "code",
   "execution_count": null,
   "metadata": {
    "collapsed": true
   },
   "outputs": [],
   "source": []
  },
  {
   "cell_type": "code",
   "execution_count": null,
   "metadata": {
    "collapsed": true
   },
   "outputs": [],
   "source": []
  },
  {
   "cell_type": "code",
   "execution_count": null,
   "metadata": {
    "collapsed": true
   },
   "outputs": [],
   "source": []
  },
  {
   "cell_type": "code",
   "execution_count": null,
   "metadata": {
    "collapsed": true
   },
   "outputs": [],
   "source": []
  }
 ],
 "metadata": {
  "kernelspec": {
   "display_name": "Python 3",
   "language": "python",
   "name": "python3"
  },
  "language_info": {
   "codemirror_mode": {
    "name": "ipython",
    "version": 3
   },
   "file_extension": ".py",
   "mimetype": "text/x-python",
   "name": "python",
   "nbconvert_exporter": "python",
   "pygments_lexer": "ipython3",
   "version": "3.5.1"
  }
 },
 "nbformat": 4,
 "nbformat_minor": 0
}
