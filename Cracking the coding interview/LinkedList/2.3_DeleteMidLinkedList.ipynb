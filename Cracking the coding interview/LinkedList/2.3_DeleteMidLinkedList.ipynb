{
 "cells": [
  {
   "cell_type": "code",
   "execution_count": 3,
   "metadata": {
    "collapsed": false
   },
   "outputs": [
    {
     "name": "stderr",
     "output_type": "stream",
     "text": [
      ".\n",
      "----------------------------------------------------------------------\n",
      "Ran 1 test in 0.001s\n",
      "\n",
      "OK\n"
     ]
    },
    {
     "data": {
      "text/plain": [
       "<unittest.runner.TextTestResult run=1 errors=0 failures=0>"
      ]
     },
     "execution_count": 3,
     "metadata": {},
     "output_type": "execute_result"
    }
   ],
   "source": [
    "import unittest\n",
    "\n",
    "class Node:\n",
    "    def __init__ (self, item):\n",
    "        self.val = item\n",
    "        self.next = None\n",
    "\n",
    "class LinkedList :\n",
    "    def __init__ (self, item):\n",
    "        self.head = Node(item)\n",
    "        \n",
    "    def add(self, val):\n",
    "        cur = self.head\n",
    "        \n",
    "        while cur.next is not None:\n",
    "            cur = cur.next\n",
    "        \n",
    "        cur.next = Node(val)\n",
    "        \n",
    "    def remove(self, val) :\n",
    "        if self.head.val == val:\n",
    "            self.head = self.head.next\n",
    "        else:\n",
    "            cur = self.head\n",
    "            while cur.next is not None:\n",
    "                if cur.val == val :\n",
    "                    self.removeItem(val)\n",
    "                    return\n",
    "                cur = cur.next\n",
    "            print(\"item does not exist in linked list\")\n",
    "    \n",
    "    def removeItem(self, val):\n",
    "        cur = self.head\n",
    "        \n",
    "        while cur.next is not None:\n",
    "            if cur.next.val == val:\n",
    "                nextnode = cur.next.next\n",
    "                cur.next.next = None\n",
    "                cur.next = nextnode\n",
    "                break\n",
    "            cur = cur.next\n",
    "            \n",
    "\n",
    "    def printList(self):\n",
    "        cur = self.head\n",
    "        res = []\n",
    "        while cur is not None:\n",
    "            res.append(cur.val)\n",
    "            cur = cur.next\n",
    "        return str(res)\n",
    "            \n",
    "            \n",
    "        \n",
    "        \n",
    "        \n",
    "        \n",
    "        \n",
    "\n",
    "class DeleteMidInLinkedList(unittest.TestCase):\n",
    "    def test(self):\n",
    "        ll = LinkedList(1)\n",
    "        ll.add(2)\n",
    "        ll.add(3)\n",
    "        ll.add(4)\n",
    "        ll.add(5)\n",
    "        ll.remove(4)\n",
    "        \n",
    "        self.assertEqual(\"[1, 2, 3, 5]\", ll.printList())\n",
    "        \n",
    "       \n",
    "        \n",
    "suite = unittest.TestLoader().loadTestsFromTestCase( DeleteMidInLinkedList )\n",
    "unittest.TextTestRunner(verbosity=1).run( suite )\n"
   ]
  },
  {
   "cell_type": "code",
   "execution_count": null,
   "metadata": {
    "collapsed": true
   },
   "outputs": [],
   "source": []
  }
 ],
 "metadata": {
  "kernelspec": {
   "display_name": "Python 3",
   "language": "python",
   "name": "python3"
  },
  "language_info": {
   "codemirror_mode": {
    "name": "ipython",
    "version": 3
   },
   "file_extension": ".py",
   "mimetype": "text/x-python",
   "name": "python",
   "nbconvert_exporter": "python",
   "pygments_lexer": "ipython3",
   "version": "3.5.1"
  }
 },
 "nbformat": 4,
 "nbformat_minor": 0
}
