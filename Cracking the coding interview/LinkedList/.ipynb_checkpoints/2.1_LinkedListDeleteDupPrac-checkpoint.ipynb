{
 "cells": [
  {
   "cell_type": "code",
   "execution_count": 16,
   "metadata": {
    "collapsed": false
   },
   "outputs": [
    {
     "name": "stderr",
     "output_type": "stream",
     "text": [
      "F\n",
      "======================================================================\n",
      "FAIL: test (__main__.LinkedListMain)\n",
      "----------------------------------------------------------------------\n",
      "Traceback (most recent call last):\n",
      "  File \"<ipython-input-16-4c283f0e7df4>\", line 53, in test\n",
      "    self.assertEqual(\"[3,4,10,8]\", ll.printLIst())\n",
      "AssertionError: '[3,4,10,8]' != '[3, 4, 10, 8]'\n",
      "- [3,4,10,8]\n",
      "+ [3, 4, 10, 8]\n",
      "?    +  +   +\n",
      "\n",
      "\n",
      "----------------------------------------------------------------------\n",
      "Ran 1 test in 0.001s\n",
      "\n",
      "FAILED (failures=1)\n"
     ]
    },
    {
     "data": {
      "text/plain": [
       "<unittest.runner.TextTestResult run=1 errors=0 failures=1>"
      ]
     },
     "execution_count": 16,
     "metadata": {},
     "output_type": "execute_result"
    }
   ],
   "source": [
    "import unittest\n",
    "\n",
    "class Node :\n",
    "    def __init__(self, item):\n",
    "        self.val = item\n",
    "        self.next = None\n",
    "\n",
    "class LinkedList:\n",
    "    def __init__(self, item):\n",
    "        self.head = Node(item)\n",
    "    \n",
    "    def add(self, val):\n",
    "        cur = self.head\n",
    "        \n",
    "        while cur.next is not None:\n",
    "            cur = cur.next\n",
    "            \n",
    "        cur.next = Node(val)\n",
    "        \n",
    "    def deleteDuplicate(self):\n",
    "        cur = self.head\n",
    "        dict = {}\n",
    "        prev = None\n",
    "        \n",
    "        while cur is not None:\n",
    "            if cur.val in dict:\n",
    "                prev.next = cur.next\n",
    "            else:\n",
    "                dict[cur.val] = True\n",
    "                prev = cur\n",
    "            cur = cur.next\n",
    "    \n",
    "    def printLIst(self):\n",
    "        cur = self.head\n",
    "        res = []\n",
    "        while cur is not None:\n",
    "            res.append(cur.val)\n",
    "            cur = cur.next\n",
    "        return str(res)      \n",
    "    \n",
    "    \n",
    "    \n",
    "    \n",
    "class LinkedListMain(unittest.TestCase):\n",
    "    def test(self):\n",
    "        ll = LinkedList(3)\n",
    "        ll.add(4)\n",
    "        ll.add(10)\n",
    "        ll.add(4)\n",
    "        ll.add(8)\n",
    "        ll.deleteDuplicate()\n",
    "     \n",
    "        self.assertEqual(\"[3, 4, 10, 8]\", ll.printLIst())       \n",
    "\n",
    "suite = unittest.TestLoader().loadTestsFromTestCase( LinkedListMain )\n",
    "unittest.TextTestRunner(verbosity=1).run( suite )\n",
    "    "
   ]
  },
  {
   "cell_type": "code",
   "execution_count": null,
   "metadata": {
    "collapsed": true
   },
   "outputs": [],
   "source": []
  }
 ],
 "metadata": {
  "kernelspec": {
   "display_name": "Python 3",
   "language": "python",
   "name": "python3"
  },
  "language_info": {
   "codemirror_mode": {
    "name": "ipython",
    "version": 3
   },
   "file_extension": ".py",
   "mimetype": "text/x-python",
   "name": "python",
   "nbconvert_exporter": "python",
   "pygments_lexer": "ipython3",
   "version": "3.5.1"
  }
 },
 "nbformat": 4,
 "nbformat_minor": 0
}
