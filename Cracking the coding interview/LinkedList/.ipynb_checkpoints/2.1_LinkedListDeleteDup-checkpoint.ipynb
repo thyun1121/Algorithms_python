{
 "cells": [
  {
   "cell_type": "code",
   "execution_count": 6,
   "metadata": {
    "collapsed": false
   },
   "outputs": [
    {
     "name": "stderr",
     "output_type": "stream",
     "text": [
      "F"
     ]
    },
    {
     "name": "stdout",
     "output_type": "stream",
     "text": [
      "5\n",
      "5\n",
      "5\n",
      "5\n",
      "5\n"
     ]
    },
    {
     "name": "stderr",
     "output_type": "stream",
     "text": [
      "\n",
      "======================================================================\n",
      "FAIL: test (__main__.LinkedListTest)\n",
      "----------------------------------------------------------------------\n",
      "Traceback (most recent call last):\n",
      "  File \"<ipython-input-6-73699f73545a>\", line 56, in test\n",
      "    self.assertEqual(\"[3, 4, 10]\", ll.printList())\n",
      "AssertionError: '[3, 4, 10]' != '[5, 4, 10]'\n",
      "- [3, 4, 10]\n",
      "?  ^\n",
      "+ [5, 4, 10]\n",
      "?  ^\n",
      "\n",
      "\n",
      "----------------------------------------------------------------------\n",
      "Ran 1 test in 0.001s\n",
      "\n",
      "FAILED (failures=1)\n"
     ]
    },
    {
     "data": {
      "text/plain": [
       "<unittest.runner.TextTestResult run=1 errors=0 failures=1>"
      ]
     },
     "execution_count": 6,
     "metadata": {},
     "output_type": "execute_result"
    }
   ],
   "source": [
    "import unittest\n",
    "\n",
    "class Node:\n",
    "    def __init__(self, item):\n",
    "        self.val  = item\n",
    "        self.next = None\n",
    "\n",
    "        \n",
    "class LinkedList:\n",
    "    def __init__(self, item):\n",
    "        self.head = Node(item)\n",
    "        \n",
    "    def add(self, val):\n",
    "        cur = self.head\n",
    "        print(cur.val)\n",
    "        while cur.next is not None:\n",
    "            cur = cur.next\n",
    "        cur.next = Node(val)\n",
    "        \n",
    "    def deleteDuplicate(self):\n",
    "        cur = self.head\n",
    "        print(cur.val)\n",
    "        dict = {}\n",
    "        prev = None\n",
    "        \n",
    "        while cur is not None:\n",
    "            if cur.val in dict:\n",
    "                prev.next = cur.next\n",
    "            else:\n",
    "                dict[cur.val] = True\n",
    "                prev = cur\n",
    "            cur = cur.next\n",
    "            #print(dict)\n",
    "        \n",
    "        #print(dict)\n",
    "    \n",
    "    def printList(self):\n",
    "        \n",
    "        cur = self.head\n",
    "        print(cur.val)\n",
    "        res = []\n",
    "        while cur is not None:\n",
    "            res.append(cur.val)\n",
    "            cur = cur.next\n",
    "        #print(res)\n",
    "        return str(res)\n",
    "        \n",
    "        \n",
    "class LinkedListTest(unittest.TestCase):\n",
    "    def test(self):\n",
    "        ll = LinkedList(3) \n",
    "        ll.add(4)\n",
    "        ll.add(10)\n",
    "        ll.add(4)\n",
    "        ll.deleteDuplicate()\n",
    "        self.assertEqual(\"[3, 4, 10]\", ll.printList())\n",
    "        \n",
    "        \n",
    "suite = unittest.TestLoader().loadTestsFromTestCase( LinkedListTest )\n",
    "unittest.TextTestRunner(verbosity=1).run( suite )"
   ]
  },
  {
   "cell_type": "code",
   "execution_count": null,
   "metadata": {
    "collapsed": true
   },
   "outputs": [],
   "source": []
  }
 ],
 "metadata": {
  "kernelspec": {
   "display_name": "Python 3",
   "language": "python",
   "name": "python3"
  },
  "language_info": {
   "codemirror_mode": {
    "name": "ipython",
    "version": 3
   },
   "file_extension": ".py",
   "mimetype": "text/x-python",
   "name": "python",
   "nbconvert_exporter": "python",
   "pygments_lexer": "ipython3",
   "version": "3.5.1"
  }
 },
 "nbformat": 4,
 "nbformat_minor": 0
}
