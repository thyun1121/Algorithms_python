{
 "cells": [
  {
   "cell_type": "code",
   "execution_count": 3,
   "metadata": {
    "collapsed": false
   },
   "outputs": [
    {
     "name": "stderr",
     "output_type": "stream",
     "text": [
      "."
     ]
    },
    {
     "name": "stdout",
     "output_type": "stream",
     "text": [
      "97\n",
      "False\n",
      "98\n",
      "False\n",
      "99\n",
      "False\n",
      "100\n",
      "False\n",
      "97\n",
      "True\n"
     ]
    },
    {
     "name": "stderr",
     "output_type": "stream",
     "text": [
      "\n",
      "----------------------------------------------------------------------\n",
      "Ran 1 test in 0.001s\n",
      "\n",
      "OK\n"
     ]
    },
    {
     "data": {
      "text/plain": [
       "<unittest.runner.TextTestResult run=1 errors=0 failures=0>"
      ]
     },
     "execution_count": 3,
     "metadata": {},
     "output_type": "execute_result"
    }
   ],
   "source": [
    "import unittest\n",
    "\n",
    "def isUniqueChars(str):\n",
    "    if len(str) > 256 :\n",
    "        return False\n",
    "    \n",
    "    hash = [False] * 256\n",
    "    \n",
    "    \n",
    "    for ch in str :\n",
    "        if hash[ord(ch)] is True:\n",
    "            return False\n",
    "        else:\n",
    "            hash[ord(ch)] = True\n",
    "            \n",
    "            \n",
    "    return True\n",
    "\n",
    "\n",
    "class isUniqCharsTest(unittest.TestCase):\n",
    "    def test(self):\n",
    "        input_unique = \"abcde\"\n",
    "        input_not_unique = \"abcda\"\n",
    "        #self.assertTrue(isUniqueChars(input_unique))\n",
    "        self.assertFalse(isUniqueChars(input_not_unique))\n",
    "\n",
    "        \n",
    "#unittest.main()\n",
    "suite = unittest.TestLoader().loadTestsFromTestCase( isUniqCharsTest )\n",
    "unittest.TextTestRunner(verbosity=1).run( suite )"
   ]
  },
  {
   "cell_type": "code",
   "execution_count": null,
   "metadata": {
    "collapsed": true
   },
   "outputs": [],
   "source": []
  },
  {
   "cell_type": "code",
   "execution_count": null,
   "metadata": {
    "collapsed": true
   },
   "outputs": [],
   "source": []
  },
  {
   "cell_type": "code",
   "execution_count": null,
   "metadata": {
    "collapsed": true
   },
   "outputs": [],
   "source": []
  },
  {
   "cell_type": "code",
   "execution_count": null,
   "metadata": {
    "collapsed": true
   },
   "outputs": [],
   "source": []
  },
  {
   "cell_type": "code",
   "execution_count": null,
   "metadata": {
    "collapsed": true
   },
   "outputs": [],
   "source": []
  }
 ],
 "metadata": {
  "kernelspec": {
   "display_name": "Python 3",
   "language": "python",
   "name": "python3"
  },
  "language_info": {
   "codemirror_mode": {
    "name": "ipython",
    "version": 3
   },
   "file_extension": ".py",
   "mimetype": "text/x-python",
   "name": "python",
   "nbconvert_exporter": "python",
   "pygments_lexer": "ipython3",
   "version": "3.5.1"
  }
 },
 "nbformat": 4,
 "nbformat_minor": 0
}
