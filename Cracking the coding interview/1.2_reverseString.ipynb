{
 "cells": [
  {
   "cell_type": "code",
   "execution_count": 8,
   "metadata": {
    "collapsed": false
   },
   "outputs": [
    {
     "name": "stderr",
     "output_type": "stream",
     "text": [
      "//anaconda/lib/python3.5/site-packages/ipykernel/__main__.py:24: DeprecationWarning: Please use assertEqual instead.\n",
      "//anaconda/lib/python3.5/site-packages/ipykernel/__main__.py:25: DeprecationWarning: Please use assertEqual instead.\n",
      ".\n",
      "----------------------------------------------------------------------\n",
      "Ran 1 test in 0.001s\n",
      "\n",
      "OK\n"
     ]
    },
    {
     "data": {
      "text/plain": [
       "<unittest.runner.TextTestResult run=1 errors=0 failures=0>"
      ]
     },
     "execution_count": 8,
     "metadata": {},
     "output_type": "execute_result"
    }
   ],
   "source": [
    "import unittest\n",
    "\n",
    "def reverseStringPython(str):\n",
    "    return str[::-1]\n",
    "\n",
    "\n",
    "def reverseString(str):\n",
    "    stack = []\n",
    "    \n",
    "    for ch in str:\n",
    "        stack.append(ch)\n",
    "        \n",
    "    result = \"\"\n",
    "    \n",
    "    while len(stack)>0:\n",
    "        result += stack.pop()\n",
    "    \n",
    "    return result\n",
    "\n",
    "\n",
    "class convertString(unittest.TestCase):\n",
    "    def test(self):\n",
    "        input = \"abcde\"\n",
    "        self.assertEquals(\"edcba\", reverseString(input))\n",
    "        self.assertEquals(\"edcba\", reverseStringPython(input))\n",
    "    \n",
    "\n",
    "suite = unittest.TestLoader().loadTestsFromTestCase( convertString )\n",
    "unittest.TextTestRunner(verbosity=1).run( suite )\n",
    "        "
   ]
  },
  {
   "cell_type": "code",
   "execution_count": null,
   "metadata": {
    "collapsed": true
   },
   "outputs": [],
   "source": []
  }
 ],
 "metadata": {
  "kernelspec": {
   "display_name": "Python 3",
   "language": "python",
   "name": "python3"
  },
  "language_info": {
   "codemirror_mode": {
    "name": "ipython",
    "version": 3
   },
   "file_extension": ".py",
   "mimetype": "text/x-python",
   "name": "python",
   "nbconvert_exporter": "python",
   "pygments_lexer": "ipython3",
   "version": "3.5.1"
  }
 },
 "nbformat": 4,
 "nbformat_minor": 0
}
