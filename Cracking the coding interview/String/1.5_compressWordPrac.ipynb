{
 "cells": [
  {
   "cell_type": "code",
   "execution_count": 8,
   "metadata": {
    "collapsed": false
   },
   "outputs": [
    {
     "name": "stderr",
     "output_type": "stream",
     "text": [
      ".\n",
      "----------------------------------------------------------------------\n",
      "Ran 1 test in 0.003s\n",
      "\n",
      "OK\n"
     ]
    },
    {
     "data": {
      "text/plain": [
       "<unittest.runner.TextTestResult run=1 errors=0 failures=0>"
      ]
     },
     "execution_count": 8,
     "metadata": {},
     "output_type": "execute_result"
    }
   ],
   "source": [
    "import unittest\n",
    "\n",
    "def compressWord(rcvStr):\n",
    "    output=''\n",
    "    cnt = 0\n",
    "    buffer = None\n",
    "    \n",
    "    for char in rcvStr:\n",
    "        if buffer is None:\n",
    "            cnt+=1\n",
    "            buffer = char\n",
    "            output += char\n",
    "        else :\n",
    "            if buffer == char:\n",
    "                cnt+=1\n",
    "            else:\n",
    "                output += str(cnt)\n",
    "                cnt = 1\n",
    "                buffer = char\n",
    "                output += char\n",
    "                \n",
    "    \n",
    "    output += str(cnt)\n",
    "                \n",
    "    \n",
    "    if len(output) > len(rcvStr):\n",
    "        return rcvStr\n",
    "    else:\n",
    "        return output\n",
    "        \n",
    "\n",
    "class CompressWordTest(unittest.TestCase):\n",
    "    def test(self):\n",
    "        self.assertEqual(\"a2b1c4a2\", compressWord(\"aabccccaa\"))\n",
    "        #self.assertFalse()\n",
    "        \n",
    "suite = unittest.TestLoader().loadTestsFromTestCase( CompressWordTest )\n",
    "unittest.TextTestRunner(verbosity=1).run( suite )"
   ]
  },
  {
   "cell_type": "code",
   "execution_count": null,
   "metadata": {
    "collapsed": true
   },
   "outputs": [],
   "source": []
  },
  {
   "cell_type": "code",
   "execution_count": null,
   "metadata": {
    "collapsed": true
   },
   "outputs": [],
   "source": []
  }
 ],
 "metadata": {
  "kernelspec": {
   "display_name": "Python 3",
   "language": "python",
   "name": "python3"
  },
  "language_info": {
   "codemirror_mode": {
    "name": "ipython",
    "version": 3
   },
   "file_extension": ".py",
   "mimetype": "text/x-python",
   "name": "python",
   "nbconvert_exporter": "python",
   "pygments_lexer": "ipython3",
   "version": "3.5.1"
  }
 },
 "nbformat": 4,
 "nbformat_minor": 0
}
