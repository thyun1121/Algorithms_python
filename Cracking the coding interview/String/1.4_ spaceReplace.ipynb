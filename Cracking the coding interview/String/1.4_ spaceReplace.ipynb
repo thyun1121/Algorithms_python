{
 "cells": [
  {
   "cell_type": "code",
   "execution_count": 2,
   "metadata": {
    "collapsed": false
   },
   "outputs": [
    {
     "name": "stderr",
     "output_type": "stream",
     "text": [
      "E\n",
      "======================================================================\n",
      "ERROR: test (__main__.SpaceReplace)\n",
      "----------------------------------------------------------------------\n",
      "Traceback (most recent call last):\n",
      "  File \"<ipython-input-2-936d5c8c87ee>\", line 8, in test\n",
      "    self.assertEqual(spaceReplace(\"Mr John Smith  \"))\n",
      "TypeError: assertEqual() missing 1 required positional argument: 'second'\n",
      "\n",
      "----------------------------------------------------------------------\n",
      "Ran 1 test in 0.001s\n",
      "\n",
      "FAILED (errors=1)\n"
     ]
    },
    {
     "data": {
      "text/plain": [
       "<unittest.runner.TextTestResult run=1 errors=1 failures=0>"
      ]
     },
     "execution_count": 2,
     "metadata": {},
     "output_type": "execute_result"
    }
   ],
   "source": [
    "import unittest\n",
    "\n",
    "def spaceReplace(str):\n",
    "    return str.strip().replace(\" \", \"%20\")\n",
    "    \n",
    "class SpaceReplace(unittest.TestCase):\n",
    "    def test(self):\n",
    "        self.assertEqual(\"\", spaceReplace(\"Mr John Smith  \"))\n",
    "        \n",
    "suite = unittest.TestLoader().loadTestsFromTestCase( SpaceReplace )\n",
    "unittest.TextTestRunner(verbosity=1).run( suite )\n",
    "\n"
   ]
  },
  {
   "cell_type": "code",
   "execution_count": null,
   "metadata": {
    "collapsed": true
   },
   "outputs": [],
   "source": []
  }
 ],
 "metadata": {
  "kernelspec": {
   "display_name": "Python 3",
   "language": "python",
   "name": "python3"
  },
  "language_info": {
   "codemirror_mode": {
    "name": "ipython",
    "version": 3
   },
   "file_extension": ".py",
   "mimetype": "text/x-python",
   "name": "python",
   "nbconvert_exporter": "python",
   "pygments_lexer": "ipython3",
   "version": "3.5.1"
  }
 },
 "nbformat": 4,
 "nbformat_minor": 0
}
