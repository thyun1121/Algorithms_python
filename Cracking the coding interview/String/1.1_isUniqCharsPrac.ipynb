{
 "cells": [
  {
   "cell_type": "code",
   "execution_count": 4,
   "metadata": {
    "collapsed": false
   },
   "outputs": [
    {
     "name": "stderr",
     "output_type": "stream",
     "text": [
      ".\n",
      "----------------------------------------------------------------------\n",
      "Ran 1 test in 0.002s\n",
      "\n",
      "OK\n"
     ]
    },
    {
     "data": {
      "text/plain": [
       "<unittest.runner.TextTestResult run=1 errors=0 failures=0>"
      ]
     },
     "execution_count": 4,
     "metadata": {},
     "output_type": "execute_result"
    }
   ],
   "source": [
    "import unittest\n",
    "\n",
    "def testUniqChars(str):\n",
    "    if len(str)>256:\n",
    "        return False\n",
    "    \n",
    "    bl = [False]*256\n",
    "    \n",
    "    for ch in str:\n",
    "        if bl[ord(ch)] is True :\n",
    "            return False\n",
    "        \n",
    "        bl[ord(ch)] = True\n",
    "        \n",
    "    \n",
    "    return True\n",
    "   \n",
    "\n",
    "\n",
    "class isUniqCharsPrac (unittest.TestCase):\n",
    "    def test(self):\n",
    "        strUniq = \"abcde\"\n",
    "        strNotUniq = \"abcad\"\n",
    "        \n",
    "        self.assertTrue(testUniqChars(strUniq))\n",
    "        self.assertFalse(testUniqChars(strNotUniq))\n",
    "        \n",
    "        \n",
    "suite = unittest.TestLoader().loadTestsFromTestCase( isUniqCharsPrac )\n",
    "unittest.TextTestRunner(verbosity=1).run( suite )"
   ]
  },
  {
   "cell_type": "code",
   "execution_count": null,
   "metadata": {
    "collapsed": true
   },
   "outputs": [],
   "source": []
  }
 ],
 "metadata": {
  "kernelspec": {
   "display_name": "Python 3",
   "language": "python",
   "name": "python3"
  },
  "language_info": {
   "codemirror_mode": {
    "name": "ipython",
    "version": 3
   },
   "file_extension": ".py",
   "mimetype": "text/x-python",
   "name": "python",
   "nbconvert_exporter": "python",
   "pygments_lexer": "ipython3",
   "version": "3.5.1"
  }
 },
 "nbformat": 4,
 "nbformat_minor": 0
}
