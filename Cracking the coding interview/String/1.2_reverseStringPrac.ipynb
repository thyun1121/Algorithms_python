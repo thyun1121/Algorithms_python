{
 "cells": [
  {
   "cell_type": "code",
   "execution_count": 17,
   "metadata": {
    "collapsed": false
   },
   "outputs": [
    {
     "name": "stderr",
     "output_type": "stream",
     "text": [
      ".\n",
      "----------------------------------------------------------------------\n",
      "Ran 1 test in 0.002s\n",
      "\n",
      "OK\n"
     ]
    },
    {
     "data": {
      "text/plain": [
       "<unittest.runner.TextTestResult run=1 errors=0 failures=0>"
      ]
     },
     "execution_count": 17,
     "metadata": {},
     "output_type": "execute_result"
    }
   ],
   "source": [
    "import unittest\n",
    "\n",
    "def reverseStringPython (str):\n",
    "    return str[::-1]\n",
    "\n",
    "def reverseString (str):\n",
    "    #print(str)\n",
    "    \n",
    "    stack = []\n",
    "    \n",
    "    for char in str:\n",
    "        stack.append(char)\n",
    "        \n",
    "    #print(stack)\n",
    "    \n",
    "    returnStr = \"\"\n",
    "    \n",
    "    while len(stack) > 0:\n",
    "        returnStr += stack.pop()\n",
    "    \n",
    "    return returnStr \n",
    "\n",
    "\n",
    "class convertString(unittest.TestCase):\n",
    "    def test(self):\n",
    "        str = \"abcde\"\n",
    "        #self.assertEquals(\"edcba\", reverseStringPython(str))\n",
    "        #self.assertEquals(\"edcba\", reverseString(str))\n",
    "    \n",
    "suite = unittest.TestLoader().loadTestsFromTestCase( convertString )\n",
    "unittest.TextTestRunner(verbosity=1).run( suite )"
   ]
  },
  {
   "cell_type": "code",
   "execution_count": null,
   "metadata": {
    "collapsed": true
   },
   "outputs": [],
   "source": []
  },
  {
   "cell_type": "code",
   "execution_count": null,
   "metadata": {
    "collapsed": true
   },
   "outputs": [],
   "source": []
  }
 ],
 "metadata": {
  "kernelspec": {
   "display_name": "Python 3",
   "language": "python",
   "name": "python3"
  },
  "language_info": {
   "codemirror_mode": {
    "name": "ipython",
    "version": 3
   },
   "file_extension": ".py",
   "mimetype": "text/x-python",
   "name": "python",
   "nbconvert_exporter": "python",
   "pygments_lexer": "ipython3",
   "version": "3.5.1"
  }
 },
 "nbformat": 4,
 "nbformat_minor": 0
}
