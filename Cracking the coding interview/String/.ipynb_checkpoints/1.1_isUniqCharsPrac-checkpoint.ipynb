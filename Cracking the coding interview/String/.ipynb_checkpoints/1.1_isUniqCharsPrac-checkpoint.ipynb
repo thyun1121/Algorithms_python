{
 "cells": [
  {
   "cell_type": "code",
   "execution_count": 5,
   "metadata": {
    "collapsed": false
   },
   "outputs": [
    {
     "name": "stderr",
     "output_type": "stream",
     "text": [
      "F\n",
      "======================================================================\n",
      "FAIL: test (__main__.isUniqCharsPrac)\n",
      "----------------------------------------------------------------------\n",
      "Traceback (most recent call last):\n",
      "  File \"<ipython-input-5-1dcec8557db0>\", line 24, in test\n",
      "    self.assertFalse(testUniqChars(strNotUniq))\n",
      "AssertionError: True is not false\n",
      "\n",
      "----------------------------------------------------------------------\n",
      "Ran 1 test in 0.001s\n",
      "\n",
      "FAILED (failures=1)\n"
     ]
    },
    {
     "data": {
      "text/plain": [
       "<unittest.runner.TextTestResult run=1 errors=0 failures=1>"
      ]
     },
     "execution_count": 5,
     "metadata": {},
     "output_type": "execute_result"
    }
   ],
   "source": [
    "import unittest\n",
    "\n",
    "def testUniqChars(str):\n",
    "    if len(str) > 256:\n",
    "        return False\n",
    "    \n",
    "    hash = [False]*256\n",
    "    \n",
    "    for ch in str :\n",
    "        if hash[ord(ch)] is True:\n",
    "            return False\n",
    "        else:\n",
    "            hash[ord(ch)] = True\n",
    "            \n",
    "        \n",
    "    return True\n",
    "\n",
    "class isUniqCharsPrac (unittest.TestCase):\n",
    "    def test(self):\n",
    "        strUniq = \"abcde\"\n",
    "        strNotUniq = \"abcad\"\n",
    "        \n",
    "        self.assertTrue(testUniqChars(strUniq))\n",
    "        self.assertFalse(testUniqChars(strNotUniq))\n",
    "        \n",
    "        \n",
    "suite = unittest.TestLoader().loadTestsFromTestCase( isUniqCharsPrac )\n",
    "unittest.TextTestRunner(verbosity=1).run( suite )"
   ]
  },
  {
   "cell_type": "code",
   "execution_count": null,
   "metadata": {
    "collapsed": true
   },
   "outputs": [],
   "source": []
  }
 ],
 "metadata": {
  "kernelspec": {
   "display_name": "Python 3",
   "language": "python",
   "name": "python3"
  },
  "language_info": {
   "codemirror_mode": {
    "name": "ipython",
    "version": 3
   },
   "file_extension": ".py",
   "mimetype": "text/x-python",
   "name": "python",
   "nbconvert_exporter": "python",
   "pygments_lexer": "ipython3",
   "version": "3.5.1"
  }
 },
 "nbformat": 4,
 "nbformat_minor": 0
}
