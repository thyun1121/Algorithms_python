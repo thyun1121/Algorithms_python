{
 "cells": [
  {
   "cell_type": "code",
   "execution_count": 8,
   "metadata": {
    "collapsed": false
   },
   "outputs": [
    {
     "name": "stderr",
     "output_type": "stream",
     "text": [
      ".\n",
      "----------------------------------------------------------------------\n",
      "Ran 1 test in 0.002s\n",
      "\n",
      "OK\n"
     ]
    },
    {
     "data": {
      "text/plain": [
       "<unittest.runner.TextTestResult run=1 errors=0 failures=0>"
      ]
     },
     "execution_count": 8,
     "metadata": {},
     "output_type": "execute_result"
    }
   ],
   "source": [
    "import unittest\n",
    "\n",
    "def isUniqChars(str):\n",
    "    if len(str) > 256 :\n",
    "        return False\n",
    "    else:\n",
    "        hash = [False]*256\n",
    "        \n",
    "        for ch in str:\n",
    "            if hash[ord(ch)] is True:\n",
    "                return False\n",
    "            else:\n",
    "                hash[ord(ch)] = True\n",
    "        \n",
    "        return True\n",
    "\n",
    "class isUniqCharsPrac (unittest.TestCase):\n",
    "    def test(self):\n",
    "        input_uniq     = \"abcde\"\n",
    "        input_not_uniq = \"abcda\"\n",
    "        \n",
    "        self.assertTrue(isUniqChars(input_uniq))\n",
    "        self.assertFalse(isUniqChars(input_not_uniq))\n",
    "        \n",
    "        \n",
    "suite = unittest.TestLoader().loadTestsFromTestCase( isUniqCharsPrac )\n",
    "unittest.TextTestRunner(verbosity=1).run( suite )"
   ]
  },
  {
   "cell_type": "code",
   "execution_count": null,
   "metadata": {
    "collapsed": true
   },
   "outputs": [],
   "source": []
  }
 ],
 "metadata": {
  "kernelspec": {
   "display_name": "Python 3",
   "language": "python",
   "name": "python3"
  },
  "language_info": {
   "codemirror_mode": {
    "name": "ipython",
    "version": 3
   },
   "file_extension": ".py",
   "mimetype": "text/x-python",
   "name": "python",
   "nbconvert_exporter": "python",
   "pygments_lexer": "ipython3",
   "version": "3.5.1"
  }
 },
 "nbformat": 4,
 "nbformat_minor": 0
}
