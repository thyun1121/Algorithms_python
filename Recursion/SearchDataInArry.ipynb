{
 "cells": [
  {
   "cell_type": "code",
   "execution_count": 8,
   "metadata": {
    "collapsed": false
   },
   "outputs": [
    {
     "name": "stdout",
     "output_type": "stream",
     "text": [
      "3\n"
     ]
    }
   ],
   "source": [
    "def find(arry, begin, end, target):\n",
    "    if begin>end:\n",
    "        return -1\n",
    "    \n",
    "    if arry[begin] == target:\n",
    "        return begin\n",
    "    else:\n",
    "        return find(arry, begin+1, end, target)\n",
    "\n",
    "arry = [\"d\",\"a\",\"v\",\"i\",\"d\"]\n",
    "begin = 0\n",
    "end = len(arry)-1\n",
    "target = \"i\"\n",
    "print(find(arry, begin, end, target)) \n",
    "        \n",
    "    "
   ]
  },
  {
   "cell_type": "code",
   "execution_count": null,
   "metadata": {
    "collapsed": true
   },
   "outputs": [],
   "source": []
  }
 ],
 "metadata": {
  "kernelspec": {
   "display_name": "Python 3",
   "language": "python",
   "name": "python3"
  },
  "language_info": {
   "codemirror_mode": {
    "name": "ipython",
    "version": 3
   },
   "file_extension": ".py",
   "mimetype": "text/x-python",
   "name": "python",
   "nbconvert_exporter": "python",
   "pygments_lexer": "ipython3",
   "version": "3.5.1"
  }
 },
 "nbformat": 4,
 "nbformat_minor": 0
}
