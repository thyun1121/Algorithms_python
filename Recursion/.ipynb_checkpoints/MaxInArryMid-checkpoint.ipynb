{
 "cells": [
  {
   "cell_type": "code",
   "execution_count": 3,
   "metadata": {
    "collapsed": false
   },
   "outputs": [
    {
     "name": "stdout",
     "output_type": "stream",
     "text": [
      "432\n"
     ]
    }
   ],
   "source": [
    "def findMax(arry, begin, end):\n",
    "    if(begin == end):\n",
    "        return arry[begin]\n",
    "    middle = (begin+end)//2\n",
    "    a = findMax(arry, begin, middle)\n",
    "    b = findMax(arry, middle+1, end)\n",
    "    return Max(a, b)\n",
    "\n",
    "arry = [3, 1, 100, 432, 200]\n",
    "\n",
    "begin = 0\n",
    "end = len(arry)-1\n",
    "\n",
    "print(findMax(arry, begin, end))"
   ]
  },
  {
   "cell_type": "code",
   "execution_count": null,
   "metadata": {
    "collapsed": true
   },
   "outputs": [],
   "source": []
  }
 ],
 "metadata": {
  "kernelspec": {
   "display_name": "Python 3",
   "language": "python",
   "name": "python3"
  },
  "language_info": {
   "codemirror_mode": {
    "name": "ipython",
    "version": 3
   },
   "file_extension": ".py",
   "mimetype": "text/x-python",
   "name": "python",
   "nbconvert_exporter": "python",
   "pygments_lexer": "ipython3",
   "version": "3.5.1"
  }
 },
 "nbformat": 4,
 "nbformat_minor": 0
}
