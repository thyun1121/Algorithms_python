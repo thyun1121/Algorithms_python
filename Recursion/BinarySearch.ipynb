{
 "cells": [
  {
   "cell_type": "code",
   "execution_count": 5,
   "metadata": {
    "collapsed": false
   },
   "outputs": [
    {
     "name": "stdout",
     "output_type": "stream",
     "text": [
      "3\n"
     ]
    }
   ],
   "source": [
    "def binarySearch(arry, begin, end, target):\n",
    "    if begin > end:\n",
    "        return -1\n",
    "    middle = (begin+end)//2\n",
    "    \n",
    "    \n",
    "    if arry[middle] == target:\n",
    "        return middle\n",
    "    elif arry[middle]> target :\n",
    "        return binarySearch(arry, begin, middle-1, target)\n",
    "    elif arry[middle]< target :\n",
    "        return binarySearch(arry, middle+1, end, target)\n",
    "\n",
    "arry = [\"z\", \"e\",\"b\",\"r\",\"a\"]\n",
    "begin = 0\n",
    "end = len(arry)-1\n",
    "target = \"r\"\n",
    "\n",
    "print(binarySearch(arry, begin, end, target))\n"
   ]
  },
  {
   "cell_type": "code",
   "execution_count": null,
   "metadata": {
    "collapsed": true
   },
   "outputs": [],
   "source": []
  },
  {
   "cell_type": "code",
   "execution_count": null,
   "metadata": {
    "collapsed": true
   },
   "outputs": [],
   "source": []
  },
  {
   "cell_type": "code",
   "execution_count": null,
   "metadata": {
    "collapsed": true
   },
   "outputs": [],
   "source": []
  },
  {
   "cell_type": "code",
   "execution_count": null,
   "metadata": {
    "collapsed": true
   },
   "outputs": [],
   "source": []
  }
 ],
 "metadata": {
  "kernelspec": {
   "display_name": "Python 3",
   "language": "python",
   "name": "python3"
  },
  "language_info": {
   "codemirror_mode": {
    "name": "ipython",
    "version": 3
   },
   "file_extension": ".py",
   "mimetype": "text/x-python",
   "name": "python",
   "nbconvert_exporter": "python",
   "pygments_lexer": "ipython3",
   "version": "3.5.1"
  }
 },
 "nbformat": 4,
 "nbformat_minor": 0
}
